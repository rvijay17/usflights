{
 "cells": [
  {
   "cell_type": "code",
   "execution_count": 28,
   "metadata": {},
   "outputs": [],
   "source": [
    "import pandas as pd\n",
    "import psycopg2\n",
    "from psycopg2.extras import execute_values"
   ]
  },
  {
   "cell_type": "code",
   "execution_count": 3,
   "metadata": {},
   "outputs": [],
   "source": [
    "flights = pd.read_parquet('flights.parquet')"
   ]
  },
  {
   "cell_type": "code",
   "execution_count": 3,
   "metadata": {},
   "outputs": [
    {
     "name": "stdout",
     "output_type": "stream",
     "text": [
      "<class 'pandas.core.frame.DataFrame'>\n",
      "Int64Index: 1191805 entries, 0 to 1191804\n",
      "Data columns (total 31 columns):\n",
      "TRANSACTIONID        1191805 non-null int64\n",
      "FLIGHTDATE           1191805 non-null datetime64[ns]\n",
      "AIRLINECODE          1191805 non-null object\n",
      "AIRLINENAME          1191805 non-null object\n",
      "TAILNUM              1034988 non-null object\n",
      "FLIGHTNUM            1191805 non-null int64\n",
      "ORIGINAIRPORTCODE    1191805 non-null object\n",
      "ORIGAIRPORTNAME      1191805 non-null object\n",
      "ORIGINCITYNAME       1191805 non-null object\n",
      "ORIGINSTATE          1191805 non-null object\n",
      "ORIGINSTATENAME      1191805 non-null object\n",
      "DESTAIRPORTCODE      1191805 non-null object\n",
      "DESTAIRPORTNAME      1191805 non-null object\n",
      "DESTCITYNAME         1191805 non-null object\n",
      "DESTSTATE            1191805 non-null object\n",
      "DESTSTATENAME        1191805 non-null object\n",
      "CRSDEPTIME           1191805 non-null object\n",
      "DEPTIME              1191805 non-null object\n",
      "DEPDELAY             1163470 non-null float64\n",
      "TAXIOUT              1011833 non-null float64\n",
      "WHEELSOFF            1011791 non-null float64\n",
      "WHEELSON             1010225 non-null float64\n",
      "TAXIIN               1010320 non-null float64\n",
      "CRSARRTIME           1191805 non-null object\n",
      "ARRTIME              1191805 non-null object\n",
      "ARRDELAY             1160545 non-null float64\n",
      "CRSELAPSEDTIME       1191383 non-null float64\n",
      "ACTUALELAPSEDTIME    1160545 non-null float64\n",
      "CANCELLED            1191805 non-null bool\n",
      "DIVERTED             1191805 non-null bool\n",
      "DISTANCE             1191805 non-null float64\n",
      "dtypes: bool(2), datetime64[ns](1), float64(9), int64(2), object(17)\n",
      "memory usage: 275.1+ MB\n"
     ]
    }
   ],
   "source": [
    "flights.info()"
   ]
  },
  {
   "cell_type": "code",
   "execution_count": 4,
   "metadata": {},
   "outputs": [],
   "source": [
    "def initConnection():\n",
    "    try:\n",
    "        connection = psycopg2.connect(dbname='tests_data_engineering',\n",
    "                                user='candidate6901',\n",
    "                                host='iw-recruiting-test.cygkjm9anrym.us-west-2.rds.amazonaws.com',\n",
    "                                port='5432',\n",
    "                                password='OViCELrLDYP70EH9')\n",
    "        return connection\n",
    "    except:\n",
    "        print(\"Not able to connect to the database\")"
   ]
  },
  {
   "cell_type": "markdown",
   "metadata": {},
   "source": [
    "### Creation and data load of DIM_AIRLINE"
   ]
  },
  {
   "cell_type": "code",
   "execution_count": 8,
   "metadata": {},
   "outputs": [
    {
     "name": "stdout",
     "output_type": "stream",
     "text": [
      "dim_airline table created successfully\n",
      "Data inserted into dim_airline\n"
     ]
    }
   ],
   "source": [
    "try:\n",
    "    connection = initConnection()\n",
    "    cursor = connection.cursor()\n",
    "    \n",
    "    drop_table_query = '''drop table if exists dim_airline;'''\n",
    "    cursor.execute(drop_table_query)\n",
    "    \n",
    "    create_table_query = '''create table dim_airline\n",
    "                            (\n",
    "                            AIRLINECODE          text not null,\n",
    "                            AIRLINENAME          text not null\n",
    "                            ); '''\n",
    "    \n",
    "    cursor.execute(create_table_query)\n",
    "    print(\"dim_airline table created successfully\")\n",
    "    \n",
    "    # Removing Airline Code from name\n",
    "    flights['AIRLINENAME'] = flights['AIRLINENAME'].map(lambda x: x.split(':')[0])\n",
    "    \n",
    "    # Getting data from the DataFrame\n",
    "    setAirline = set(zip(flights.AIRLINECODE, flights.AIRLINENAME))\n",
    "    \n",
    "    #cursor = connection.cursor()\n",
    "    for item in setAirline:\n",
    "        str_insert_query = \"\"\" INSERT INTO dim_airline (AIRLINECODE, AIRLINENAME) VALUES (%s,%s)\"\"\"\n",
    "        cursor.execute(str_insert_query, item)\n",
    "\n",
    "    connection.commit()\n",
    "    print(\"Data inserted into dim_airline\")\n",
    "    \n",
    "except Exception as e:\n",
    "    print(\"Error with table creation or data loading of dim_airline - \" + e)\n",
    "finally:\n",
    "    if(connection):\n",
    "        cursor.close()\n",
    "        connection.close()"
   ]
  },
  {
   "cell_type": "markdown",
   "metadata": {},
   "source": [
    "### Creation and data load of DIM_AIRPORT"
   ]
  },
  {
   "cell_type": "code",
   "execution_count": 14,
   "metadata": {},
   "outputs": [],
   "source": [
    "flights['ORIGAIRPORTNAME'] = flights['ORIGAIRPORTNAME'].map(lambda x: x.split(':')[1].strip())\n",
    "flights['DESTAIRPORTNAME'] = flights['DESTAIRPORTNAME'].map(lambda x: x.split(':')[1].strip())\n",
    "\n",
    "originAirport = set(zip(flights.ORIGINAIRPORTCODE, \n",
    "        flights.ORIGAIRPORTNAME, \n",
    "        flights.ORIGINCITYNAME, \n",
    "        flights.ORIGINSTATE, \n",
    "        flights.ORIGINSTATENAME))\n",
    "destAirport = set(zip(flights.DESTAIRPORTCODE, \n",
    "        flights.DESTAIRPORTNAME, \n",
    "        flights.DESTCITYNAME, \n",
    "        flights.DESTSTATE, \n",
    "        flights.DESTSTATENAME))\n",
    "\n",
    "setAirports = originAirport.union(destAirport)"
   ]
  },
  {
   "cell_type": "code",
   "execution_count": 15,
   "metadata": {},
   "outputs": [
    {
     "name": "stdout",
     "output_type": "stream",
     "text": [
      "dim_airline table created successfully\n",
      "Data inserted into dim_airport\n"
     ]
    }
   ],
   "source": [
    "try:\n",
    "    connection = initConnection()\n",
    "    cursor = connection.cursor()\n",
    "    \n",
    "    drop_table_query = '''drop table if exists dim_airport;'''\n",
    "    cursor.execute(drop_table_query)\n",
    "    \n",
    "    create_table_query = '''create table dim_airport\n",
    "                            (\n",
    "                            AIRPORTCODE text not null,\n",
    "                            AIRPORTNAME text,\n",
    "                            CITYNAME text,\n",
    "                            STATECODE text,\n",
    "                            STATENAME text\n",
    "                            ); '''\n",
    "    \n",
    "    cursor.execute(create_table_query)\n",
    "    print(\"dim_airline table created successfully\")\n",
    "    \n",
    "    #cursor = connection.cursor()\n",
    "    for item in setAirports:\n",
    "        str_insert_query = \"\"\" INSERT INTO dim_airport (AIRPORTCODE, AIRPORTNAME, CITYNAME, STATECODE, STATENAME) VALUES (%s,%s,%s,%s,%s)\"\"\"\n",
    "        cursor.execute(str_insert_query, item)\n",
    "\n",
    "    connection.commit()\n",
    "    print(\"Data inserted into dim_airport\")\n",
    "    \n",
    "except Exception as e:\n",
    "    print(\"Error with table creation or data loading of dim_airport - \" + e)\n",
    "finally:\n",
    "    if(connection):\n",
    "        cursor.close()\n",
    "        connection.close()"
   ]
  },
  {
   "cell_type": "markdown",
   "metadata": {},
   "source": [
    "### Creation and data load of the fact table FACT_FLIGHT"
   ]
  },
  {
   "cell_type": "code",
   "execution_count": 45,
   "metadata": {},
   "outputs": [
    {
     "name": "stdout",
     "output_type": "stream",
     "text": [
      "Fact table fact_flight created successfully\n",
      "Starting data load into fact table\n",
      "100000 rows have been loaded\n",
      "200000 rows have been loaded\n",
      "300000 rows have been loaded\n",
      "400000 rows have been loaded\n",
      "500000 rows have been loaded\n",
      "600000 rows have been loaded\n",
      "700000 rows have been loaded\n",
      "800000 rows have been loaded\n",
      "900000 rows have been loaded\n",
      "1000000 rows have been loaded\n",
      "1100000 rows have been loaded\n",
      "1200000 rows have been loaded\n",
      "Data inserted into fact_flight\n"
     ]
    }
   ],
   "source": [
    "try:\n",
    "    connection = initConnection()\n",
    "    cursor = connection.cursor()\n",
    "    \n",
    "    drop_table_query = '''drop table if exists fact_flight;'''\n",
    "    cursor.execute(drop_table_query)\n",
    "\n",
    "    create_table_query = '''create table fact_flight\n",
    "                            (\n",
    "                            TRANSACTIONID        bigint,\n",
    "                            FLIGHTDATE           date,\n",
    "                            TAILNUM              text,\n",
    "                            FLIGHTNUM            text,\n",
    "                            AIRLINECODE          text,\n",
    "                            ORIGINAIRPORTCODE    text,\n",
    "                            DESTAIRPORTCODE      text,\n",
    "                            CRSDEPTIME           time,\n",
    "                            DEPTIME              text, -- should be time,\n",
    "                            DEPDELAY             real,\n",
    "                            TAXIOUT              float,\n",
    "                            WHEELSOFF            float, -- could have been time\n",
    "                            WHEELSON             float, -- could have been time\n",
    "                            TAXIIN               float, -- could have been time\n",
    "                            CRSARRTIME           time,\n",
    "                            ARRTIME              text, -- should be time,\n",
    "                            ARRDELAY             real,\n",
    "                            CRSELAPSEDTIME       float,\n",
    "                            ACTUALELAPSEDTIME    float,\n",
    "                            CANCELLED            boolean,\n",
    "                            DIVERTED             boolean,\n",
    "                            DISTANCE             float\n",
    "                            ); '''\n",
    "    cursor.execute(create_table_query)\n",
    "    \n",
    "    print(\"Fact table fact_flight created successfully\")\n",
    "    \n",
    "    # Getting data from the DataFrame\n",
    "    flights2 = flights.loc[:, ['TRANSACTIONID','FLIGHTDATE','TAILNUM','FLIGHTNUM','AIRLINECODE','ORIGINAIRPORTCODE',\n",
    "                              'DESTAIRPORTCODE','CRSDEPTIME','DEPTIME','DEPDELAY','TAXIOUT','WHEELSOFF','WHEELSON',\n",
    "                              'TAXIIN','CRSARRTIME','ARRTIME','ARRDELAY','CRSELAPSEDTIME','ACTUALELAPSEDTIME',\n",
    "                              'CANCELLED','DIVERTED','DISTANCE']]\n",
    "\n",
    "    print(\"Starting data load into fact table\")\n",
    "\n",
    "# OPTION 1\n",
    "#    for index, item in flights2.iterrows():\n",
    "#        str_insert_query = \"\"\" INSERT INTO fact_flight \n",
    "#        VALUES (%s,%s,%s,%s,%s,%s,%s,%s,%s,%s,%s,%s,%s,%s,%s,%s,%s,%s,%s,%s,%s,%s)\"\"\"\n",
    "#        cursor.execute(str_insert_query, tuple(item.tolist()))\n",
    "#        if index%100000 == 0:\n",
    "#            print(str(index) + \" rows have been loaded\")\n",
    "\n",
    "# OPTION 2\n",
    "#    i = 0\n",
    "#    j = 1\n",
    "#    incr = 1000\n",
    "#    while i*incr < 1191804:\n",
    "#        listFactData = flights2.iloc[i*incr: j*incr, :]\n",
    "#        tupleFactData = [tuple(x) for x in listFactData.values]\n",
    "#        args_str = ','.join(cursor.mogrify(\"(%s,%s,%s,%s,%s,%s,%s,%s,%s,%s,%s,%s,%s,%s,%s,%s,%s,%s,%s,%s,%s,%s)\", x) for x in tupleFactData)\n",
    "#        cursor.execute(\"INSERT INTO fact_flight VALUES \" + args_str)\n",
    "#        i = i + 1\n",
    "#        j = j + 1\n",
    "#        if (i*incr)%100000 == 0:\n",
    "#            print(str(index) + \" rows have been loaded\")        \n",
    "\n",
    "# OPTION 3\n",
    "    i = 0\n",
    "    j = 1\n",
    "    incr = 10000\n",
    "    while i*incr < flights2.shape[0]:\n",
    "        listFactData = flights2.iloc[i*incr: j*incr, :]\n",
    "        tupleFactData = [tuple(x) for x in listFactData.values]\n",
    "        str_insert_query = \"\"\" INSERT INTO fact_flight VALUES %s\"\"\"\n",
    "        execute_values (\n",
    "            cursor, str_insert_query, tupleFactData, template=None, page_size=incr\n",
    "        )\n",
    "        i = i + 1\n",
    "        j = j + 1\n",
    "        if (i*incr)%100000 == 0:\n",
    "            print(str(i*incr) + \" rows have been loaded\") \n",
    "    \n",
    "    connection.commit()\n",
    "    print(\"Data inserted into fact_flight\")\n",
    "    \n",
    "except Exception as e:\n",
    "    print(\"Error with table creation or data loading of fact_flight - \" + e)\n",
    "finally:\n",
    "    if(connection):\n",
    "        cursor.close()\n",
    "        connection.close()"
   ]
  },
  {
   "cell_type": "markdown",
   "metadata": {},
   "source": [
    "<br/>\n",
    "Columns arrtime and deptime have '' values and convert them to NULL"
   ]
  },
  {
   "cell_type": "code",
   "execution_count": 47,
   "metadata": {},
   "outputs": [
    {
     "name": "stdout",
     "output_type": "stream",
     "text": [
      "Columns arrtime and deptime in fact table fact_flight updated successfully\n"
     ]
    }
   ],
   "source": [
    "try:\n",
    "    connection = initConnection()\n",
    "    cursor = connection.cursor()\n",
    "\n",
    "    update_table_query = '''update fact_flight \n",
    "                            set \n",
    "                            arrtime = case when arrtime = '' then NULL else cast(arrtime as time) end,\n",
    "                            deptime = case when deptime = '' then NULL else cast(deptime as time) end; '''\n",
    "    cursor.execute(update_table_query)\n",
    "    \n",
    "    print(\"Columns arrtime and deptime in fact table fact_flight updated successfully\")\n",
    "    \n",
    "    connection.commit()\n",
    "    \n",
    "except Exception as e:\n",
    "    print(\"Error with updating fact table - \" + e)\n",
    "finally:\n",
    "    if(connection):\n",
    "        cursor.close()\n",
    "        connection.close()"
   ]
  },
  {
   "cell_type": "markdown",
   "metadata": {},
   "source": [
    "### Issues with data\n",
    "- ARRTIME and DEPTIME: Although DEPTIME and FLIGHTDATE are in the data, there is no way to deduce Arrival Date."
   ]
  }
 ],
 "metadata": {
  "kernelspec": {
   "display_name": "Python 3",
   "language": "python",
   "name": "python3"
  },
  "language_info": {
   "codemirror_mode": {
    "name": "ipython",
    "version": 3
   },
   "file_extension": ".py",
   "mimetype": "text/x-python",
   "name": "python",
   "nbconvert_exporter": "python",
   "pygments_lexer": "ipython3",
   "version": "3.6.6"
  }
 },
 "nbformat": 4,
 "nbformat_minor": 2
}
