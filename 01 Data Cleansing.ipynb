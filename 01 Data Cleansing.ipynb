{
 "cells": [
  {
   "cell_type": "markdown",
   "metadata": {},
   "source": [
    "#### Importing all requisite packages"
   ]
  },
  {
   "cell_type": "code",
   "execution_count": 1,
   "metadata": {},
   "outputs": [],
   "source": [
    "import pandas as pd\n",
    "import datetime"
   ]
  },
  {
   "cell_type": "markdown",
   "metadata": {},
   "source": [
    "#### Read the data file using pandas"
   ]
  },
  {
   "cell_type": "code",
   "execution_count": 2,
   "metadata": {},
   "outputs": [],
   "source": [
    "flights = pd.read_csv('flights.txt', sep='|')"
   ]
  },
  {
   "cell_type": "markdown",
   "metadata": {},
   "source": [
    "#### Analyze the data\n",
    "Since the data file is around 300 MB in size, it can be analyzed in my local machine. If the file was big (in GBs or TBs), we would have used Apache Spark for data analysis and transformation. </br>\n",
    "We can see below that the data file has 1191805 rows with 31 columns"
   ]
  },
  {
   "cell_type": "code",
   "execution_count": 3,
   "metadata": {},
   "outputs": [
    {
     "data": {
      "text/plain": [
       "(1191805, 31)"
      ]
     },
     "execution_count": 3,
     "metadata": {},
     "output_type": "execute_result"
    }
   ],
   "source": [
    "flights.shape"
   ]
  },
  {
   "cell_type": "markdown",
   "metadata": {},
   "source": [
    "We can see below that the DataFrame has 31 columns. The Identifier column seems to be **TRANSACTIONID**. The next steps wuld be to check the following\n",
    "- TRANSACTIONID: See if it has all unique values\n",
    "- FLIGHTDATE: Can we convert it to date type\n",
    "- ORIGINSTATE and ORIGINSTATENAME have a few missing values. See what is missing and if it can be replaced. These two can be used as filters in reporting\n",
    "- DESTSTATE and DESTSTATENAME also have few missing values\n",
    "- CRSDEPTIME, DEPTIME, CRSARRTIME, ARRTIME - Check data and see if it can be converted to datetime.time object\n",
    "- CANCELLED, DIVERTED: Check data and see if they can be converted to boolean type\n",
    "- DISTANCE: Can it be converted to a numeric data type"
   ]
  },
  {
   "cell_type": "code",
   "execution_count": 4,
   "metadata": {},
   "outputs": [
    {
     "name": "stdout",
     "output_type": "stream",
     "text": [
      "<class 'pandas.core.frame.DataFrame'>\n",
      "RangeIndex: 1191805 entries, 0 to 1191804\n",
      "Data columns (total 31 columns):\n",
      "TRANSACTIONID        1191805 non-null int64\n",
      "FLIGHTDATE           1191805 non-null int64\n",
      "AIRLINECODE          1191805 non-null object\n",
      "AIRLINENAME          1191805 non-null object\n",
      "TAILNUM              1034988 non-null object\n",
      "FLIGHTNUM            1191805 non-null int64\n",
      "ORIGINAIRPORTCODE    1191805 non-null object\n",
      "ORIGAIRPORTNAME      1191805 non-null object\n",
      "ORIGINCITYNAME       1191805 non-null object\n",
      "ORIGINSTATE          1180963 non-null object\n",
      "ORIGINSTATENAME      1180963 non-null object\n",
      "DESTAIRPORTCODE      1191805 non-null object\n",
      "DESTAIRPORTNAME      1191805 non-null object\n",
      "DESTCITYNAME         1191805 non-null object\n",
      "DESTSTATE            1180967 non-null object\n",
      "DESTSTATENAME        1180967 non-null object\n",
      "CRSDEPTIME           1191805 non-null int64\n",
      "DEPTIME              1163470 non-null float64\n",
      "DEPDELAY             1163470 non-null float64\n",
      "TAXIOUT              1011833 non-null float64\n",
      "WHEELSOFF            1011791 non-null float64\n",
      "WHEELSON             1010225 non-null float64\n",
      "TAXIIN               1010320 non-null float64\n",
      "CRSARRTIME           1191805 non-null int64\n",
      "ARRTIME              1161439 non-null float64\n",
      "ARRDELAY             1160545 non-null float64\n",
      "CRSELAPSEDTIME       1191383 non-null float64\n",
      "ACTUALELAPSEDTIME    1160545 non-null float64\n",
      "CANCELLED            1191805 non-null object\n",
      "DIVERTED             1191805 non-null object\n",
      "DISTANCE             1191805 non-null object\n",
      "dtypes: float64(10), int64(5), object(16)\n",
      "memory usage: 281.9+ MB\n"
     ]
    }
   ],
   "source": [
    "flights.info()"
   ]
  },
  {
   "cell_type": "markdown",
   "metadata": {},
   "source": [
    "### Datatype conversions"
   ]
  },
  {
   "cell_type": "markdown",
   "metadata": {},
   "source": [
    "### **1. TRANSACTIONID** has all unique values"
   ]
  },
  {
   "cell_type": "code",
   "execution_count": 5,
   "metadata": {},
   "outputs": [
    {
     "data": {
      "text/plain": [
       "1191805"
      ]
     },
     "execution_count": 5,
     "metadata": {},
     "output_type": "execute_result"
    }
   ],
   "source": [
    "flights['TRANSACTIONID'].unique().size"
   ]
  },
  {
   "cell_type": "markdown",
   "metadata": {},
   "source": [
    "### 2. Converting **FLIGHTDATE** to datetime"
   ]
  },
  {
   "cell_type": "code",
   "execution_count": 6,
   "metadata": {},
   "outputs": [
    {
     "data": {
      "text/plain": [
       "0   2002-01-01\n",
       "1   2002-01-01\n",
       "2   2002-01-01\n",
       "3   2002-01-01\n",
       "4   2002-01-03\n",
       "Name: FLIGHTDATE, dtype: datetime64[ns]"
      ]
     },
     "execution_count": 6,
     "metadata": {},
     "output_type": "execute_result"
    }
   ],
   "source": [
    "flights['FLIGHTDATE'] = pd.to_datetime(flights.FLIGHTDATE, format=\"%Y%m%d\")\n",
    "flights['FLIGHTDATE'].head()"
   ]
  },
  {
   "cell_type": "markdown",
   "metadata": {},
   "source": [
    "### 3. Dealing with null values in ORIGINSTATE and ORIGINSTATENAME\n",
    "As we can see below, we have 10482 null values for ORIGINSTATE and ORIGINSTATENAME. Origin State can be used as a filter in reports and would be a good-to-have. Since 10482 is a large enough value, we can see if we can deduce it from within the data or if we can provide it from external sources."
   ]
  },
  {
   "cell_type": "code",
   "execution_count": 7,
   "metadata": {},
   "outputs": [
    {
     "data": {
      "text/plain": [
       "CA     141852\n",
       "TX     137592\n",
       "IL      78413\n",
       "FL      78338\n",
       "GA      67182\n",
       "NY      51653\n",
       "PA      39624\n",
       "CO      39422\n",
       "NC      39249\n",
       "AZ      39024\n",
       "VA      37271\n",
       "MO      35668\n",
       "MI      33342\n",
       "NV      31670\n",
       "MN      27582\n",
       "NJ      24711\n",
       "TN      23971\n",
       "WA      23216\n",
       "OH      22753\n",
       "MA      22310\n",
       "UT      20364\n",
       "KY      19137\n",
       "MD      17515\n",
       "LA      13271\n",
       "OR      12143\n",
       "HI      11125\n",
       "NaN     10842\n",
       "IN       9176\n",
       "WI       8389\n",
       "AK       8111\n",
       "NM       7178\n",
       "AL       7011\n",
       "SC       5978\n",
       "CT       5655\n",
       "PR       4788\n",
       "AR       4763\n",
       "NE       4513\n",
       "RI       3910\n",
       "IA       3500\n",
       "ID       3146\n",
       "MT       3088\n",
       "MS       2441\n",
       "NH       2081\n",
       "ND       1929\n",
       "ME       1741\n",
       "SD       1593\n",
       "WY       1085\n",
       "VT        913\n",
       "VI        799\n",
       "WV        654\n",
       "TT        118\n",
       "DE          5\n",
       "Name: ORIGINSTATE, dtype: int64"
      ]
     },
     "execution_count": 7,
     "metadata": {},
     "output_type": "execute_result"
    }
   ],
   "source": [
    "flights.ORIGINSTATE.value_counts(dropna=False)"
   ]
  },
  {
   "cell_type": "markdown",
   "metadata": {},
   "source": [
    "<br/>\n",
    "From below, we can confirm that we cannot deduce the missing State names from within the data. We will have to use external data sources to fill the data manually."
   ]
  },
  {
   "cell_type": "code",
   "execution_count": 8,
   "metadata": {},
   "outputs": [
    {
     "data": {
      "text/plain": [
       "array([nan], dtype=object)"
      ]
     },
     "execution_count": 8,
     "metadata": {},
     "output_type": "execute_result"
    }
   ],
   "source": [
    "# Get all city names where State name is null\n",
    "arrCityNamesWhereStateIsNull = flights[flights.ORIGINSTATE.isna()]['ORIGINCITYNAME'].unique()\n",
    "\n",
    "# Filter data on above array to see if some city names hve corresponding State. \n",
    "flights[flights.ORIGINCITYNAME.isin(arrCityNamesWhereStateIsNull)]['ORIGINSTATE'].unique()"
   ]
  },
  {
   "cell_type": "markdown",
   "metadata": {},
   "source": [
    "#### Printing the city names with no State Code and State Name"
   ]
  },
  {
   "cell_type": "code",
   "execution_count": 9,
   "metadata": {},
   "outputs": [
    {
     "data": {
      "text/plain": [
       "array(['Lawton/Fort Sill', 'Manhattan/Ft. Riley', 'Hays', 'Oklahoma City',\n",
       "       'Topeka', 'Tulsa', 'Wichita', 'Garden City'], dtype=object)"
      ]
     },
     "execution_count": 9,
     "metadata": {},
     "output_type": "execute_result"
    }
   ],
   "source": [
    "arrCityNamesWhereStateIsNull"
   ]
  },
  {
   "cell_type": "code",
   "execution_count": 10,
   "metadata": {},
   "outputs": [],
   "source": [
    "# Manually assigning the state code and state name for the missing city names\n",
    "stateNames = {\n",
    "    \"Lawton/Fort Sill\": [\"Oklahoma\", \"OK\"],\n",
    "    \"Manhattan/Ft. Riley\": [\"Kansas\", \"KS\"],\n",
    "    \"Hays\": [\"Kansas\", \"KS\"],\n",
    "    \"Oklahoma City\": [\"Oklahoma\", \"OK\"],\n",
    "    \"Topeka\": [\"Kansas\", \"KS\"],\n",
    "    \"Tulsa\" :[\"Oklahoma\", \"OK\"],\n",
    "    \"Wichita\": [\"Kansas\", \"KS\"],\n",
    "    \"Garden City\": [\"Kansas\", \"KS\"]\n",
    "}\n",
    "\n",
    "####\n",
    "## Function to update the Origin State Code and State Name for city names passed as parameters\n",
    "####\n",
    "def updateOriginState(cityName, stateCode, stateName):\n",
    "    flights.loc[flights.ORIGINCITYNAME == cityName, 'ORIGINSTATE'] = stateCode\n",
    "    flights.loc[flights.ORIGINCITYNAME == cityName, 'ORIGINSTATENAME'] = stateName"
   ]
  },
  {
   "cell_type": "code",
   "execution_count": 11,
   "metadata": {},
   "outputs": [
    {
     "data": {
      "text/plain": [
       "array(['NM', 'GA', 'NY', 'TX', 'OH', 'AL', 'MT', 'OR', 'AK', 'LA', 'WA',\n",
       "       'MN', 'ME', 'MD', 'IL', 'CA', 'NJ', 'WI', 'NC', 'MI', 'PA', 'CO',\n",
       "       'WV', 'WY', 'UT', 'SC', 'IA', 'VT', 'PR', 'SD', 'TN', 'MO', 'MA',\n",
       "       'ND', 'ID', 'FL', 'NV', 'HI', 'TT', 'KY', 'OK', 'AR', 'NE', 'MS',\n",
       "       'IN', 'NH', 'VA', 'KS', 'CT', 'AZ', 'DE', 'RI', 'VI'], dtype=object)"
      ]
     },
     "execution_count": 11,
     "metadata": {},
     "output_type": "execute_result"
    }
   ],
   "source": [
    "for cityName in arrCityNamesWhereStateIsNull:\n",
    "    updateOriginState(cityName, stateNames.get(cityName)[1], stateNames.get(cityName)[0])\n",
    "\n",
    "flights.ORIGINSTATE.unique()"
   ]
  },
  {
   "cell_type": "markdown",
   "metadata": {},
   "source": [
    "### 4. Dealing with null values in DESTSTATE and DESTSTATENAME\n",
    "As we can see below, we have 10838 null values for DESTSTATE and DESTSTATENAME. Origin State can be used as a filter in reports and would be a good-to-have. Since 10838 is a large enough value, we can see if we can deduce it from within the data or if we can provide it from external sources."
   ]
  },
  {
   "cell_type": "code",
   "execution_count": 12,
   "metadata": {},
   "outputs": [
    {
     "data": {
      "text/plain": [
       "CA     141630\n",
       "TX     137460\n",
       "IL      78897\n",
       "FL      78405\n",
       "GA      66713\n",
       "NY      51876\n",
       "PA      39728\n",
       "CO      39644\n",
       "NC      39348\n",
       "AZ      38955\n",
       "VA      37050\n",
       "MO      35714\n",
       "MI      33584\n",
       "NV      31506\n",
       "MN      27530\n",
       "NJ      24847\n",
       "TN      23961\n",
       "WA      23223\n",
       "OH      22818\n",
       "MA      22144\n",
       "UT      20257\n",
       "KY      19056\n",
       "MD      17429\n",
       "LA      13429\n",
       "OR      12086\n",
       "HI      11110\n",
       "NaN     10838\n",
       "IN       9161\n",
       "WI       8239\n",
       "AK       8074\n",
       "NM       7081\n",
       "AL       6975\n",
       "SC       6078\n",
       "CT       5671\n",
       "PR       4781\n",
       "AR       4771\n",
       "NE       4480\n",
       "RI       3918\n",
       "IA       3469\n",
       "ID       3239\n",
       "MT       3095\n",
       "MS       2516\n",
       "NH       2130\n",
       "ND       1921\n",
       "ME       1802\n",
       "SD       1603\n",
       "WY       1053\n",
       "VT        876\n",
       "VI        808\n",
       "WV        677\n",
       "TT        132\n",
       "DE         17\n",
       "Name: DESTSTATE, dtype: int64"
      ]
     },
     "execution_count": 12,
     "metadata": {},
     "output_type": "execute_result"
    }
   ],
   "source": [
    "flights.DESTSTATE.value_counts(dropna=False)"
   ]
  },
  {
   "cell_type": "code",
   "execution_count": 13,
   "metadata": {},
   "outputs": [
    {
     "data": {
      "text/plain": [
       "array(['Oklahoma City', 'Tulsa', 'Wichita', 'Lawton/Fort Sill',\n",
       "       'Manhattan/Ft. Riley', 'Topeka', 'Garden City', 'Hays'],\n",
       "      dtype=object)"
      ]
     },
     "execution_count": 13,
     "metadata": {},
     "output_type": "execute_result"
    }
   ],
   "source": [
    "# Get all city names where State name is null\n",
    "destCityNamesWhereStateIsNull = flights[flights.DESTSTATE.isna()]['DESTCITYNAME'].unique()\n",
    "destCityNamesWhereStateIsNull"
   ]
  },
  {
   "cell_type": "code",
   "execution_count": 14,
   "metadata": {},
   "outputs": [],
   "source": [
    "####\n",
    "## Function to update the Destination State Code and State Name for city names passed as parameters\n",
    "####\n",
    "def updateDestState(cityName, stateCode, stateName):\n",
    "    flights.loc[flights.DESTCITYNAME == cityName, 'DESTSTATE'] = stateCode\n",
    "    flights.loc[flights.DESTCITYNAME == cityName, 'DESTSTATENAME'] = stateName"
   ]
  },
  {
   "cell_type": "code",
   "execution_count": 15,
   "metadata": {},
   "outputs": [
    {
     "data": {
      "text/plain": [
       "array(['TX', 'MO', 'NV', 'KY', 'CA', 'AZ', 'IL', 'CO', 'FL', 'MN', 'WA',\n",
       "       'GA', 'MD', 'NJ', 'UT', 'OR', 'PA', 'OH', 'VA', 'NY', 'MI', 'NC',\n",
       "       'WI', 'ME', 'MA', 'TN', 'SC', 'VI', 'OK', 'PR', 'IA', 'IN', 'AL',\n",
       "       'LA', 'MS', 'AR', 'NM', 'CT', 'WV', 'KS', 'NE', 'RI', 'NH', 'HI',\n",
       "       'MT', 'AK', 'DE', 'SD', 'WY', 'VT', 'ND', 'ID', 'TT'], dtype=object)"
      ]
     },
     "execution_count": 15,
     "metadata": {},
     "output_type": "execute_result"
    }
   ],
   "source": [
    "for cityName in arrCityNamesWhereStateIsNull:\n",
    "    updateDestState(cityName, stateNames.get(cityName)[1], stateNames.get(cityName)[0])\n",
    "\n",
    "flights.DESTSTATE.unique()"
   ]
  },
  {
   "cell_type": "markdown",
   "metadata": {},
   "source": [
    "### 5. Converting time columns to PostgreSQL time data type (HH24:MI:SS format)\n",
    "CRSDEPTIME (Scheduled Departure Time) and CRSARRTIME (Scheduled Arrival Time) do not have null values in the data, so they can be converted to 00:00:00 time format. DEPTIME and ARRTIME have NaN values, so they are float by default."
   ]
  },
  {
   "cell_type": "code",
   "execution_count": 16,
   "metadata": {},
   "outputs": [],
   "source": [
    "arrScheduledTimeCols = ['CRSDEPTIME', 'CRSARRTIME']\n",
    "\n",
    "for timeCol in arrScheduledTimeCols:\n",
    "    flights[timeCol] = flights[timeCol].map(lambda x:str(x).zfill(4)).map(lambda x:x[:2] + ':' + x[2:] + ':00')\n",
    "#    flights[timeCol] = pd.to_timedelta(flights[timeCol], unit=\"s\")"
   ]
  },
  {
   "cell_type": "code",
   "execution_count": 17,
   "metadata": {},
   "outputs": [],
   "source": [
    "arrActualTimeCols = ['DEPTIME', 'ARRTIME']\n",
    "\n",
    "####\n",
    "## Function to left pad the string values with 0. Ignore null values.\n",
    "####\n",
    "def padZero(x):\n",
    "    if x == 'nan':\n",
    "        return None\n",
    "    else:\n",
    "        # Remove the .0 t the end and left pad with 0\n",
    "        return x[:-2].zfill(4)\n",
    "\n",
    "def convertToTime(x):\n",
    "    if x == None:\n",
    "        return x\n",
    "    else:\n",
    "        return x[:2] + ':' + x[2:] + ':00'\n",
    "\n",
    "for timeCol in arrActualTimeCols:\n",
    "    flights[timeCol] = flights[timeCol].astype('str').map(padZero).map(convertToTime)"
   ]
  },
  {
   "cell_type": "markdown",
   "metadata": {},
   "source": [
    "### 6. Converting CANCELLED and DIVERTED to boolean\n",
    "The columns CANCELLED and DIVERTED have the following values - T, True, 1, F, False, 0. The following code replaces T, True and 1 to numpy boolean type True and F, False and 1 to numpy boolean type True."
   ]
  },
  {
   "cell_type": "code",
   "execution_count": 18,
   "metadata": {},
   "outputs": [
    {
     "data": {
      "text/plain": [
       "array([False,  True])"
      ]
     },
     "execution_count": 18,
     "metadata": {},
     "output_type": "execute_result"
    }
   ],
   "source": [
    "flights['CANCELLED'].replace({'F': False, 'False': False, '0': False}, inplace=True)\n",
    "flights['CANCELLED'].replace({'T': True, 'True': True, '1': True}, inplace=True)\n",
    "flights['CANCELLED'] = flights['CANCELLED'].astype('bool')\n",
    "flights['CANCELLED'].unique()"
   ]
  },
  {
   "cell_type": "code",
   "execution_count": 19,
   "metadata": {},
   "outputs": [
    {
     "data": {
      "text/plain": [
       "array([False,  True])"
      ]
     },
     "execution_count": 19,
     "metadata": {},
     "output_type": "execute_result"
    }
   ],
   "source": [
    "flights['DIVERTED'].replace({'F': False, 'False': False, '0': False}, inplace=True)\n",
    "flights['DIVERTED'].replace({'T': True, 'True': True, '1': True}, inplace=True)\n",
    "flights['DIVERTED'] = flights['DIVERTED'].astype('bool')\n",
    "flights['DIVERTED'].unique()"
   ]
  },
  {
   "cell_type": "markdown",
   "metadata": {},
   "source": [
    "### 7. Converting DISTANCE to float\n",
    "The column DISTANCE if of the folowing format - X miles. We need to first check whether every value is followed by the word 'miles'. If every value is followed by miles, we can remove it and convert the column to float."
   ]
  },
  {
   "cell_type": "code",
   "execution_count": 20,
   "metadata": {},
   "outputs": [
    {
     "data": {
      "text/plain": [
       "array(['miles'], dtype=object)"
      ]
     },
     "execution_count": 20,
     "metadata": {},
     "output_type": "execute_result"
    }
   ],
   "source": [
    "flights['DISTANCE'].str.split(expand=True)[1].unique()"
   ]
  },
  {
   "cell_type": "code",
   "execution_count": 21,
   "metadata": {},
   "outputs": [],
   "source": [
    "flights['DISTANCE'] = flights['DISTANCE'].str.split(expand=True)[0]\n",
    "flights['DISTANCE'] = flights['DISTANCE'].astype('float')"
   ]
  },
  {
   "cell_type": "markdown",
   "metadata": {},
   "source": [
    "### 8. Adding DISTANCE_GROUP column"
   ]
  },
  {
   "cell_type": "code",
   "execution_count": 22,
   "metadata": {},
   "outputs": [],
   "source": [
    "flights['DISTANCE_GROUP'] = \\\n",
    "(flights['DISTANCE'].astype(int).floordiv(100)*100).map(str) + \\\n",
    "'-' + \\\n",
    "(flights['DISTANCE'].astype(int).floordiv(100)*100+100).map(str)"
   ]
  },
  {
   "cell_type": "markdown",
   "metadata": {},
   "source": [
    "### 9. Adding a column named DEPDELAY_GT15 indicating if the departure delay is greater than 15 minutes"
   ]
  },
  {
   "cell_type": "code",
   "execution_count": 23,
   "metadata": {},
   "outputs": [],
   "source": [
    "flights['DEPDELAY_GT15'] = flights['DEPDELAY'] > 15"
   ]
  },
  {
   "cell_type": "markdown",
   "metadata": {},
   "source": [
    "### 10. Removing Airline Code from name"
   ]
  },
  {
   "cell_type": "code",
   "execution_count": 24,
   "metadata": {},
   "outputs": [],
   "source": [
    "flights['AIRLINENAME'] = flights['AIRLINENAME'].map(lambda x: x.split(':')[0])"
   ]
  },
  {
   "cell_type": "markdown",
   "metadata": {},
   "source": [
    "### 11. Clean up the Airport Name by removing the concatenated city and state"
   ]
  },
  {
   "cell_type": "code",
   "execution_count": 25,
   "metadata": {},
   "outputs": [],
   "source": [
    "flights['ORIGAIRPORTNAME'] = flights['ORIGAIRPORTNAME'].map(lambda x: x.split(':')[1].strip())\n",
    "flights['DESTAIRPORTNAME'] = flights['DESTAIRPORTNAME'].map(lambda x: x.split(':')[1].strip())"
   ]
  },
  {
   "cell_type": "markdown",
   "metadata": {},
   "source": [
    "### 12. Converting DataFrame to parquet\n",
    "Saving the DataFrame as a parquet format. The parquet file format is a binary file which stores the schema information as well. The file can later be read and stored to a database."
   ]
  },
  {
   "cell_type": "code",
   "execution_count": 26,
   "metadata": {},
   "outputs": [],
   "source": [
    "flights.to_parquet('flights.parquet')"
   ]
  }
 ],
 "metadata": {
  "kernelspec": {
   "display_name": "Python 3",
   "language": "python",
   "name": "python3"
  },
  "language_info": {
   "codemirror_mode": {
    "name": "ipython",
    "version": 3
   },
   "file_extension": ".py",
   "mimetype": "text/x-python",
   "name": "python",
   "nbconvert_exporter": "python",
   "pygments_lexer": "ipython3",
   "version": "3.6.6"
  }
 },
 "nbformat": 4,
 "nbformat_minor": 2
}
